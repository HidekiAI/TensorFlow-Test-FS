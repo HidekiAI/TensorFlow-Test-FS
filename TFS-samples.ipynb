{
 "cells": [
  {
   "cell_type": "markdown",
   "metadata": {},
   "source": [
    "Download https://github.com/migueldeicaza/TensorFlowSharp (Miguel De Icaza) TF wrapper (he recommends TensorFlow.NET if need more indepth use); using `#r \"nuget:TensorFlowSharp\"` to get binary (DLL) from NuGet"
   ]
  },
  {
   "cell_type": "code",
   "execution_count": 1,
   "metadata": {},
   "source": [
    "#!fsharp\r\n",
    "#r \"nuget:TensorFlowSharp\"\r\n",
    "//#r \"nuget:System.ValueTuple\"\r\n",
    "#r \"nuget:Mono.Options\"\r\n",
    "#r \"nuget:SharpZipLib\""
   ],
   "outputs": [
    {
     "output_type": "execute_result",
     "data": {
      "text/plain": "Installed package Mono.Options version 6.6.0.161"
     },
     "execution_count": 1,
     "metadata": {}
    },
    {
     "output_type": "execute_result",
     "data": {
      "text/plain": "Installed package SharpZipLib version 1.3.0"
     },
     "execution_count": 1,
     "metadata": {}
    },
    {
     "output_type": "execute_result",
     "data": {
      "text/plain": "Installed package TensorFlowSharp version 1.15.1"
     },
     "execution_count": 1,
     "metadata": {}
    }
   ]
  },
  {
   "cell_type": "markdown",
   "metadata": {},
   "source": [
    "Trial of TF in C#"
   ]
  },
  {
   "cell_type": "code",
   "execution_count": 1,
   "metadata": {},
   "source": [
    "using System;\r\n",
    "using System.IO;\r\n",
    "using System.Collections.Generic;\r\n",
    "using System.Linq;\r\n",
    "using System.Configuration;\r\n",
    "using System.Reflection;\r\n",
    "using System.Net;\r\n",
    "using System.Drawing.Imaging;\r\n",
    "using ICSharpCode.SharpZipLib.Tar;\r\n",
    "using ICsharpCode.SharpZipLib.GZip;\r\n",
    "//using TensorFlowSharp;\r\n",
    "using TensorFlow;\r\n",
    "\r\n",
    "// Some input matrices\r\n",
    "var inputs = new float[][,] {\r\n",
    "    new float[,] { { 1, 2 }, { 3, 4 } },\r\n",
    "    new float[,] { { 2, 4 }, { 6, 8 } }\r\n",
    "};\r\n",
    "\r\n",
    "// Assumes all input matrices have identical shape\r\n",
    "var shape = new long[] { inputs[0].GetLongLength(0), inputs[0].GetLongLength(1) };\r\n",
    "var size = inputs[0].Length * sizeof(float);\r\n",
    "\r\n",
    "// Empty input and output tensors\r\n",
    "var input = new TFTensor(TFDataType.Float, shape, size);\r\n",
    "var output = new TFTensor[1];\r\n",
    "\r\n",
    "// Result array for a single run\r\n",
    "var result = new float[1, 1];\r\n",
    "\r\n",
    "using (var graph = new TFGraph())\r\n",
    "{\r\n",
    "    // Load the model\r\n",
    "    graph.Import(File.ReadAllBytes(\"MySavedModel\"));\r\n",
    "    using (var session = new TFSession(graph))\r\n",
    "    {\r\n",
    "        // Setup the runner\r\n",
    "        var runner = session.GetRunner();\r\n",
    "        runner.AddInput(graph[\"input\"][0], input);\r\n",
    "        runner.Fetch(graph[\"output\"][0]);\r\n",
    "\r\n",
    "        // Run the model on each input matrix\r\n",
    "        for (int i = 0; i < inputs.Length; i++)\r\n",
    "        {\r\n",
    "            // Mutate the input tensor\r\n",
    "            input.SetValue(inputs[i]);\r\n",
    "\r\n",
    "            // Run the model\r\n",
    "            runner.Run(output);\r\n",
    "\r\n",
    "            // Fetch the result from output into `result`\r\n",
    "            output[0].GetValue(result);\r\n",
    "        }\r\n",
    "    }\r\n",
    "}\r\n",
    ""
   ],
   "outputs": [
    {
     "output_type": "error",
     "ename": "Error",
     "evalue": "(9,7): error CS0246: The type or namespace name 'ICSharpCode' could not be found (are you missing a using directive or an assembly reference?)\r\n(10,7): error CS0246: The type or namespace name 'ICsharpCode' could not be found (are you missing a using directive or an assembly reference?)\r\n(12,7): error CS0246: The type or namespace name 'TensorFlow' could not be found (are you missing a using directive or an assembly reference?)\r\n(25,17): error CS0246: The type or namespace name 'TFTensor' could not be found (are you missing a using directive or an assembly reference?)\r\n(25,26): error CS0103: The name 'TFDataType' does not exist in the current context\r\n(26,18): error CS0246: The type or namespace name 'TFTensor' could not be found (are you missing a using directive or an assembly reference?)\r\n(31,24): error CS0246: The type or namespace name 'TFGraph' could not be found (are you missing a using directive or an assembly reference?)\r\n(35,30): error CS0246: The type or namespace name 'TFSession' could not be found (are you missing a using directive or an assembly reference?)",
     "traceback": []
    }
   ]
  },
  {
   "cell_type": "code",
   "execution_count": 1,
   "metadata": {},
   "source": [
    "#!fsharp\r\n",
    "#r @\"packages\\TensorFlowSharp.1.15.1\\lib\\net471\\TensorFlowSharp.dll\"\r\n",
    "\r\n",
    "open System\r\n",
    "open System.IO\r\n",
    "open System.Net\r\n",
    "open System.IO.Compression\r\n",
    "open System.IO.Compression.FileSystem\r\n",
    "open TensorFlow\r\n",
    "\r\n",
    "// set the path to find the native DLL\r\n",
    "Environment.SetEnvironmentVariable(\"Path\", \r\n",
    "    Environment.GetEnvironmentVariable(\"Path\") + \";\" + __SOURCE_DIRECTORY__ + @\"/packages/TensorFlowSharp.1.2.2/native\")\r\n",
    "\r\n",
    "module AddTwoNumbers = \r\n",
    "    let session = new TFSession()\r\n",
    "    let graph = session.Graph\r\n",
    "\r\n",
    "    let a = graph.Const(new TFTensor(2))\r\n",
    "    let b = graph.Const(new TFTensor(3))\r\n",
    "    Console.WriteLine(\"a=2 b=3\")\r\n",
    "\r\n",
    "    // Add two constants\r\n",
    "    let addingResults = session.GetRunner().Run(graph.Add(a, b))\r\n",
    "    let addingResultValue = addingResults.GetValue()\r\n",
    "    Console.WriteLine(\"a+b={0}\", addingResultValue)\r\n",
    "\r\n",
    "    // Multiply two constants\r\n",
    "    let multiplyResults = session.GetRunner().Run(graph.Mul(a, b))\r\n",
    "    let multiplyResultValue = multiplyResults.GetValue()\r\n",
    "    Console.WriteLine(\"a*b={0}\", multiplyResultValue)}"
   ],
   "outputs": [
    {
     "output_type": "error",
     "ename": "Error",
     "evalue": "input.fsx (27,54)-(27,55) parse error Unexpected symbol '}' in definition. Expected incomplete structured construct at or before this point or other token.\ninput.fsx (1,1)-(1,68) interactive error Unable to find the file 'packages\\TensorFlowSharp.1.4.0\\lib\\net471\\TensorFlowSharp.dll' in any of\n C:\\Program Files\\dotnet\\shared\\Microsoft.NETCore.App\\3.1.8\n c:\\Users\\hidekiai\\AppData\\Roaming\\Code - Insiders\\User\\globalStorage\\ms-dotnettools.dotnet-interactive-vscode\n C:\\Users\\hidekiai\\.nuget\\packages\\microsoft.dotnet-interactive\\1.0.150501\\tools\\netcoreapp3.1\\any\\",
     "traceback": []
    }
   ]
  }
 ],
 "metadata": {
  "kernelspec": {
   "display_name": ".NET (C#)",
   "language": "C#",
   "name": ".net-csharp"
  },
  "language_info": {
   "file_extension": ".cs",
   "mimetype": "text/x-csharp",
   "name": "C#",
   "pygments_lexer": "csharp",
   "version": "8.0"
  }
 },
 "nbformat": 4,
 "nbformat_minor": 4
}